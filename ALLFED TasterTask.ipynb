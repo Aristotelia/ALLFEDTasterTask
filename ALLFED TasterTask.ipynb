{
 "cells": [
  {
   "cell_type": "markdown",
   "metadata": {},
   "source": [
    "# Water Pipe Length Calculation Tool"
   ]
  },
  {
   "cell_type": "markdown",
   "metadata": {},
   "source": [
    "The tool will ask for the population, the area and the country or region that is to be investigated.\n",
    "The input for \"country/region\" is limited, as it will later draw on a table. Therefore the table has to be loaded before starting the tool to display the valid input options for the field \"country/region\"."
   ]
  },
  {
   "cell_type": "code",
   "execution_count": null,
   "metadata": {},
   "outputs": [],
   "source": [
    "pop_services <- read.csv(\"Population_water_services.csv\", header=TRUE, sep=\",\", dec=\".\", na.strings=\"..\")"
   ]
  },
  {
   "cell_type": "markdown",
   "metadata": {},
   "source": [
    "There is no data available for Hong Kong, Liechtenstein and Palastine. For Hong Kong and Liechtenstein 100% access is assumed due to the high human development index (HDI) value. For Palastine, which has a much lower HDI, the value for the category \"countries with low human development\" is assumed\n",
    "For Argentina, Central African Republic, Dominica, Estonia, Saint Kittis and Nevis, there are no values for 2017, so the values for 2016 are used.\n",
    "The table contains values for the years 2000-2017. For this tool only the most recent data is required.\n",
    "For convenience the countries/regions are stored in a separate vector and then entered into a matrix for better readibility."
   ]
  },
  {
   "cell_type": "code",
   "execution_count": null,
   "metadata": {},
   "outputs": [],
   "source": [
    "pop_water <- pop_services[,c(1,2,37)]\n",
    "countries <- pop_water[,2]\n",
    "regions <- matrix(countries, byrow=FALSE, ncol=5)"
   ]
  },
  {
   "cell_type": "markdown",
   "metadata": {},
   "source": [
    "If not a whole country but only an urban region is analyzed, it is assumed that the percentage of people using basic drinking water services is higher than for the entire country. Therefore, for all countries/regions with an original value lower than 90%, an extra 10% is added. There is no differentiation between regions for lack of data. The information is stored in an extra dataframe and is being called upon in the function depending on the population density."
   ]
  },
  {
   "cell_type": "code",
   "execution_count": null,
   "metadata": {},
   "outputs": [],
   "source": [
    "pop_water_ur <- pop_water[,3]\n",
    "for(i in 1:length(pop_water_ur)) {\n",
    "  if (pop_water_ur[i]<=90){\n",
    "    pop_water_ur[i]=pop_water_ur[i]+10 \n",
    "  } else {\n",
    "    pop_water_ur[i]=pop_water_ur[i]\n",
    "  }}\n",
    "pop_water_urban <- data.frame(pop_water[,2], pop_water_ur)"
   ]
  },
  {
   "cell_type": "markdown",
   "metadata": {},
   "source": [
    "For the next step researched population density and pipe length per citizen (in km) data of five cities/regions is recorded. The reviewed sample regions are (from small to large): Eschenburg, Siegen, Berlin (all in Germany), Santiago de Chile and New York City."
   ]
  },
  {
   "cell_type": "code",
   "execution_count": null,
   "metadata": {},
   "outputs": [],
   "source": [
    "dens <- c(228, 897, 4088, 8407, 10640)\n",
    "len <- c(0.0116, 0.0084, 0.0027, 0.0015, 0.00129)\n",
    "rel_dens_len <- data.frame(dens, len)"
   ]
  },
  {
   "cell_type": "markdown",
   "metadata": {},
   "source": [
    "A cubic function is fitted to the datapoints and the calculated factors stored in variables."
   ]
  },
  {
   "cell_type": "code",
   "execution_count": null,
   "metadata": {},
   "outputs": [],
   "source": [
    "facfun <- lm(len~dens+I(dens^2)+I(dens^3), data=rel_dens_len)\n",
    "a <- as.numeric(facfun$coefficients[1])\n",
    "b <- as.numeric(facfun$coefficients[2])\n",
    "c <- as.numeric(facfun$coefficients[3])\n",
    "d <- as.numeric(facfun$coefficients[4])"
   ]
  },
  {
   "cell_type": "markdown",
   "metadata": {},
   "source": [
    "Below a function is build using the arguments country/region (x), population (y) and population density (z) which will be asked to be inserted by the user or respectively calculated by using the inputs:\n",
    "1.) For the base length the population of the region in question is multiplied with a funciton which represents the relationship of the population density and the length of pipe per citizen as calculated by researched datapoints (see above).\n",
    "2.) Then a correction factor for the percentage of people having access to basic water supply is applied. It is based on the UN Index of people using at least basic drinking water services. This is not limited to piped water, however for lack of a better estimate, it is assumed that it comes close. If a solely urban area is investigated, the factor is corrected by an increase of 10% as described above. An area is considered primarely urban if the population density calculated from the inputs surpasses 680 people per km². This number is based on a comprehensive review of population density data for countries. Most countries, excluding city states, count with a population density below 680 people per km², so it can be reasonably assumed that an area surpassing this value is either a city state or an urban region."
   ]
  },
  {
   "cell_type": "code",
   "execution_count": null,
   "metadata": {},
   "outputs": [],
   "source": [
    "pipe_length <- function(x, y, z){\n",
    "#1.)\n",
    "    base_length <- y * (a + z * b\n",
    "                               + c * z^2 + d * z^3)\n",
    "#2.)\n",
    "  if (z>=680){\n",
    "    access <- pop_water_urban[grep(x, pop_water_urban[,1]),2]/100\n",
    "  } else {\n",
    "    access <- pop_water[grep(x, pop_water[,2]),3]/100\n",
    "  }\n",
    "  final_length <- base_length * access\n",
    "  return(final_length)\n",
    "}\n"
   ]
  },
  {
   "cell_type": "markdown",
   "metadata": {},
   "source": [
    "Subsequent the final tool is designed. First the valid inputs for the country/region field are listed. Then the user is prompted to insert country/region, population and area. These values are stored in variables. Population and area are used to calculate the population density. The density, in turn, along with the country/region and the population count is then subjected to the function determining the pipe length which is defined above. Finally, the function below returns the estimate including its unit."
   ]
  },
  {
   "cell_type": "code",
   "execution_count": null,
   "metadata": {},
   "outputs": [],
   "source": [
    "input <- function(){\n",
    "  print(\"Valid Inputs: \", quote=FALSE)\n",
    "  print(regions)\n",
    "  country <- readline (prompt=\"Enter country or region: \")\n",
    "  population <- as.numeric(readline (prompt=\"Enter population: \"))\n",
    "  area <- as.numeric(readline(prompt=\"Enter area in km²: \"))\n",
    "  pop_density <- population/area\n",
    "  final <- pipe_length(country, population, pop_density)\n",
    "  paste0(final, \" km\")\n",
    "}"
   ]
  },
  {
   "cell_type": "markdown",
   "metadata": {},
   "source": [
    "The final line of code calls on the input function defined above and let's the user execute the whole code."
   ]
  },
  {
   "cell_type": "code",
   "execution_count": null,
   "metadata": {},
   "outputs": [],
   "source": [
    "input()"
   ]
  }
 ],
 "metadata": {
  "kernelspec": {
   "display_name": "R",
   "language": "R",
   "name": "ir"
  },
  "language_info": {
   "codemirror_mode": "r",
   "file_extension": ".r",
   "mimetype": "text/x-r-source",
   "name": "R",
   "pygments_lexer": "r",
   "version": "3.6.1"
  }
 },
 "nbformat": 4,
 "nbformat_minor": 4
}
