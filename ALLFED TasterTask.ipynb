{
 "cells": [
  {
   "cell_type": "markdown",
   "metadata": {},
   "source": [
    "# Water Pipe Length Calculation Tool"
   ]
  },
  {
   "cell_type": "markdown",
   "metadata": {},
   "source": [
    "As Input the tool will ask for the population, the area and the country or region that is to be investigated.\n",
    "The input for \"country/region\" is limited, as it will later be used draw on the following table containing data for the percentage of population of a country using basic water services. The table was downloaded from http://hdr.undp.org/en/data under the dimension \"Socio-economic-sustainability\" and selecting \"Population using at least basic drinking water services (%)\"."
   ]
  },
  {
   "cell_type": "code",
   "execution_count": 1,
   "metadata": {},
   "outputs": [],
   "source": [
    "pop_services <- read.csv(\"Population_water_services.csv\", header=TRUE, sep=\",\", dec=\".\", na.strings=\"..\")"
   ]
  },
  {
   "cell_type": "markdown",
   "metadata": {},
   "source": [
    "There is no data available for Hong Kong, Liechtenstein and Palastine. For Hong Kong and Liechtenstein 100% access is assumed due to the high human development index (HDI) value. For Palastine, which has a much lower HDI, the value for the category \"countries with low human development\" is assumed\n",
    "For Argentina, Central African Republic, Dominica, Estonia, Saint Kittis and Nevis, there are no values for 2017, so the values for 2016 are used, except for Dominica and Saint Kittis and Nevis. For these two states 2016 data is also unavailable, so the most recent available datapoint is used, namely the 2015 value for Dominica and the 2013 value for Saint Kitts and Nevis.\n",
    "The table contains values for the years 2000-2017. For this tool only the most recent data is required.\n",
    "For convenience the countries/regions are stored in a separate vector and then entered into a matrix for better readibility."
   ]
  },
  {
   "cell_type": "code",
   "execution_count": 2,
   "metadata": {},
   "outputs": [],
   "source": [
    "pop_water <- pop_services[,c(1,2,37)]\n",
    "countries <- pop_water[,2]\n",
    "regions <- matrix(countries, byrow=FALSE, ncol=5)"
   ]
  },
  {
   "cell_type": "markdown",
   "metadata": {},
   "source": [
    "If not a whole country but only an urban region is analyzed, it is assumed that the percentage of people using basic drinking water services is higher than for the entire country. Therefore, for all countries/regions with an original value lower than 90%, an extra 10% is added. There is no differentiation between regions for lack of data. The information is stored in an extra dataframe and is being called upon in the function depending on the population density."
   ]
  },
  {
   "cell_type": "code",
   "execution_count": 3,
   "metadata": {},
   "outputs": [],
   "source": [
    "pop_water_ur <- pop_water[,3]\n",
    "for(i in 1:length(pop_water_ur)) {\n",
    "  if (pop_water_ur[i]<=90){\n",
    "    pop_water_ur[i]=pop_water_ur[i]+10 \n",
    "  } else {\n",
    "    pop_water_ur[i]=pop_water_ur[i]\n",
    "  }}\n",
    "pop_water_urban <- data.frame(pop_water[,2], pop_water_ur)"
   ]
  },
  {
   "cell_type": "markdown",
   "metadata": {},
   "source": [
    "For the next step researched population density and pipe length per citizen (in km) data of five cities/regions is recorded. The reviewed sample regions are (from small to large): Eschenburg, Siegen, Berlin (all in Germany), Santiago de Chile and New York City."
   ]
  },
  {
   "cell_type": "code",
   "execution_count": 4,
   "metadata": {},
   "outputs": [],
   "source": [
    "dens <- c(228, 897, 4088, 8407, 10640)\n",
    "len <- c(0.0116, 0.0084, 0.0027, 0.0015, 0.00129)\n",
    "rel_dens_len <- data.frame(dens, len)"
   ]
  },
  {
   "cell_type": "markdown",
   "metadata": {},
   "source": [
    "A cubic function is fitted to the datapoints and the calculated factors stored in variables."
   ]
  },
  {
   "cell_type": "code",
   "execution_count": 5,
   "metadata": {},
   "outputs": [],
   "source": [
    "facfun <- lm(len~dens+I(dens^2)+I(dens^3), data=rel_dens_len)\n",
    "a <- as.numeric(facfun$coefficients[1])\n",
    "b <- as.numeric(facfun$coefficients[2])\n",
    "c <- as.numeric(facfun$coefficients[3])\n",
    "d <- as.numeric(facfun$coefficients[4])"
   ]
  },
  {
   "cell_type": "markdown",
   "metadata": {},
   "source": [
    "Below a function is build using the arguments country/region (x), population (y) and population density (z) which will be asked to be inserted by the user or respectively calculated by using the inputs:\n",
    "1.) For the base length the population of the region in question is multiplied with a funciton which represents the relationship of the population density and the length of pipe per citizen as calculated by researched datapoints (see above).\n",
    "2.) Then a correction factor for the percentage of people having access to basic water supply is applied. It is based on the UN Index of people using at least basic drinking water services. This is not limited to piped water, however for lack of a better estimate, it is assumed that it comes close. If a solely urban area is investigated, the factor is corrected by an increase of 10% as described above. An area is considered primarely urban if the population density calculated from the inputs surpasses 680 people per km². This number is based on a comprehensive review of population density data for countries. Most countries, excluding city states, count with a population density below 680 people per km², so it can be reasonably assumed that an area surpassing this value is either a city state or an urban region."
   ]
  },
  {
   "cell_type": "code",
   "execution_count": 6,
   "metadata": {},
   "outputs": [],
   "source": [
    "pipe_length <- function(x, y, z){\n",
    "#1.)\n",
    "    base_length <- y * (a + z * b\n",
    "                               + c * z^2 + d * z^3)\n",
    "#2.)\n",
    "  if (z>=680){\n",
    "    access <- pop_water_urban[grep(x, pop_water_urban[,1]),2]/100\n",
    "  } else {\n",
    "    access <- pop_water[grep(x, pop_water[,2]),3]/100\n",
    "  }\n",
    "  final_length <- base_length * access\n",
    "  return(final_length)\n",
    "}\n"
   ]
  },
  {
   "cell_type": "markdown",
   "metadata": {},
   "source": [
    "Subsequent the final tool is designed. First the valid inputs for the country/region field are listed. Then the user is prompted to insert country/region, population and area. These values are stored in variables. Population and area are used to calculate the population density. The density, in turn, along with the country/region and the population count is then subjected to the function determining the pipe length which is defined above. Finally, the function below returns the estimate including its unit."
   ]
  },
  {
   "cell_type": "code",
   "execution_count": 7,
   "metadata": {},
   "outputs": [],
   "source": [
    "input <- function(){\n",
    "  print(\"Valid Inputs: \", quote=FALSE)\n",
    "  print(regions)\n",
    "  country <- readline (prompt=\"Enter country or region: \")\n",
    "  population <- as.numeric(readline (prompt=\"Enter population: \"))\n",
    "  area <- as.numeric(readline(prompt=\"Enter area in km²: \"))\n",
    "  pop_density <- population/area\n",
    "  final <- pipe_length(country, population, pop_density)\n",
    "  paste0(final, \" km\")\n",
    "}"
   ]
  },
  {
   "cell_type": "markdown",
   "metadata": {},
   "source": [
    "The final line of code calls on the input function defined above and let's the user execute the whole code."
   ]
  },
  {
   "cell_type": "code",
   "execution_count": 23,
   "metadata": {},
   "outputs": [
    {
     "name": "stdout",
     "output_type": "stream",
     "text": [
      "Enter country or region: Germany\n",
      "Enter population: 10500\n",
      "Enter area in km²: 46\n",
      "[1] \"Valid Inputs: \"\n",
      "      [,1]                                 [,2]                        \n",
      " [1,] \"Afghanistan\"                        \"Cuba\"                      \n",
      " [2,] \"Albania\"                            \"Cyprus\"                    \n",
      " [3,] \"Algeria\"                            \"Czechia\"                   \n",
      " [4,] \"Andorra\"                            \"Côte d'Ivoire\"             \n",
      " [5,] \"Angola\"                             \"Denmark\"                   \n",
      " [6,] \"Antigua and Barbuda\"                \"Djibouti\"                  \n",
      " [7,] \"Argentina\"                          \"Dominica\"                  \n",
      " [8,] \"Armenia\"                            \"Dominican Republic\"        \n",
      " [9,] \"Australia\"                          \"Ecuador\"                   \n",
      "[10,] \"Austria\"                            \"Egypt\"                     \n",
      "[11,] \"Azerbaijan\"                         \"El Salvador\"               \n",
      "[12,] \"Bahamas\"                            \"Equatorial Guinea\"         \n",
      "[13,] \"Bahrain\"                            \"Eritrea\"                   \n",
      "[14,] \"Bangladesh\"                         \"Estonia\"                   \n",
      "[15,] \"Barbados\"                           \"Eswatini (Kingdom of)\"     \n",
      "[16,] \"Belarus\"                            \"Ethiopia\"                  \n",
      "[17,] \"Belgium\"                            \"Fiji\"                      \n",
      "[18,] \"Belize\"                             \"Finland\"                   \n",
      "[19,] \"Benin\"                              \"France\"                    \n",
      "[20,] \"Bhutan\"                             \"Gabon\"                     \n",
      "[21,] \"Bolivia (Plurinational State of)\"   \"Gambia\"                    \n",
      "[22,] \"Bosnia and Herzegovina\"             \"Georgia\"                   \n",
      "[23,] \"Botswana\"                           \"Germany\"                   \n",
      "[24,] \"Brazil\"                             \"Ghana\"                     \n",
      "[25,] \"Brunei Darussalam\"                  \"Greece\"                    \n",
      "[26,] \"Bulgaria\"                           \"Grenada\"                   \n",
      "[27,] \"Burkina Faso\"                       \"Guatemala\"                 \n",
      "[28,] \"Burundi\"                            \"Guinea\"                    \n",
      "[29,] \"Cabo Verde\"                         \"Guinea-Bissau\"             \n",
      "[30,] \"Cambodia\"                           \"Guyana\"                    \n",
      "[31,] \"Cameroon\"                           \"Haiti\"                     \n",
      "[32,] \"Canada\"                             \"Honduras\"                  \n",
      "[33,] \"Central African Republic\"           \"Hong Kong\"                 \n",
      "[34,] \"Chad\"                               \"Hungary\"                   \n",
      "[35,] \"Chile\"                              \"Iceland\"                   \n",
      "[36,] \"China\"                              \"India\"                     \n",
      "[37,] \"Colombia\"                           \"Indonesia\"                 \n",
      "[38,] \"Comoros\"                            \"Iran (Islamic Republic of)\"\n",
      "[39,] \"Congo\"                              \"Iraq\"                      \n",
      "[40,] \"Congo (Democratic Republic of the)\" \"Ireland\"                   \n",
      "[41,] \"Costa Rica\"                         \"Israel\"                    \n",
      "[42,] \"Croatia\"                            \"Italy\"                     \n",
      "      [,3]                                  [,4]                              \n",
      " [1,] \"Jamaica\"                             \"Nicaragua\"                       \n",
      " [2,] \"Japan\"                               \"Niger\"                           \n",
      " [3,] \"Jordan\"                              \"Nigeria\"                         \n",
      " [4,] \"Kazakhstan\"                          \"North Macedonia\"                 \n",
      " [5,] \"Kenya\"                               \"Norway\"                          \n",
      " [6,] \"Kiribati\"                            \"Oman\"                            \n",
      " [7,] \"Korea (Democratic People's Rep. of)\" \"Pakistan\"                        \n",
      " [8,] \"Korea (Republic of)\"                 \"Palau\"                           \n",
      " [9,] \"Kuwait\"                              \"Palestine\"                       \n",
      "[10,] \"Kyrgyzstan\"                          \"Panama\"                          \n",
      "[11,] \"Lao People's Democratic Republic\"    \"Papua New Guinea\"                \n",
      "[12,] \"Latvia\"                              \"Paraguay\"                        \n",
      "[13,] \"Lebanon\"                             \"Peru\"                            \n",
      "[14,] \"Lesotho\"                             \"Philippines\"                     \n",
      "[15,] \"Liberia\"                             \"Poland\"                          \n",
      "[16,] \"Libya\"                               \"Portugal\"                        \n",
      "[17,] \"Liechtenstein\"                       \"Qatar\"                           \n",
      "[18,] \"Lithuania\"                           \"Romania\"                         \n",
      "[19,] \"Luxembourg\"                          \"Russian Federation\"              \n",
      "[20,] \"Madagascar\"                          \"Rwanda\"                          \n",
      "[21,] \"Malawi\"                              \"Saint Kitts and Nevis\"           \n",
      "[22,] \"Malaysia\"                            \"Saint Lucia\"                     \n",
      "[23,] \"Maldives\"                            \"Saint Vincent and the Grenadines\"\n",
      "[24,] \"Mali\"                                \"Samoa\"                           \n",
      "[25,] \"Malta\"                               \"San Marino\"                      \n",
      "[26,] \"Marshall Islands\"                    \"Sao Tome and Principe\"           \n",
      "[27,] \"Mauritania\"                          \"Saudi Arabia\"                    \n",
      "[28,] \"Mauritius\"                           \"Senegal\"                         \n",
      "[29,] \"Mexico\"                              \"Serbia\"                          \n",
      "[30,] \"Micronesia (Federated States of)\"    \"Seychelles\"                      \n",
      "[31,] \"Moldova (Republic of)\"               \"Sierra Leone\"                    \n",
      "[32,] \"Monaco\"                              \"Singapore\"                       \n",
      "[33,] \"Mongolia\"                            \"Slovakia\"                        \n",
      "[34,] \"Montenegro\"                          \"Slovenia\"                        \n",
      "[35,] \"Morocco\"                             \"Solomon Islands\"                 \n",
      "[36,] \"Mozambique\"                          \"Somalia\"                         \n",
      "[37,] \"Myanmar\"                             \"South Africa\"                    \n",
      "[38,] \"Namibia\"                             \"South Sudan\"                     \n",
      "[39,] \"Nauru\"                               \"Spain\"                           \n",
      "[40,] \"Nepal\"                               \"Sri Lanka\"                       \n",
      "[41,] \"Netherlands\"                         \"Sudan\"                           \n",
      "[42,] \"New Zealand\"                         \"Suriname\"                        \n",
      "      [,5]                                                    \n",
      " [1,] \"Sweden\"                                                \n",
      " [2,] \"Switzerland\"                                           \n",
      " [3,] \"Syrian Arab Republic\"                                  \n",
      " [4,] \"Tajikistan\"                                            \n",
      " [5,] \"Tanzania (United Republic of)\"                         \n",
      " [6,] \"Thailand\"                                              \n",
      " [7,] \"Timor-Leste\"                                           \n",
      " [8,] \"Togo\"                                                  \n",
      " [9,] \"Tonga\"                                                 \n",
      "[10,] \"Trinidad and Tobago\"                                   \n",
      "[11,] \"Tunisia\"                                               \n",
      "[12,] \"Turkey\"                                                \n",
      "[13,] \"Turkmenistan\"                                          \n",
      "[14,] \"Tuvalu\"                                                \n",
      "[15,] \"Uganda\"                                                \n",
      "[16,] \"Ukraine\"                                               \n",
      "[17,] \"United Arab Emirates\"                                  \n",
      "[18,] \"United Kingdom\"                                        \n",
      "[19,] \"United States\"                                         \n",
      "[20,] \"Uruguay\"                                               \n",
      "[21,] \"Uzbekistan\"                                            \n",
      "[22,] \"Vanuatu\"                                               \n",
      "[23,] \"Venezuela (Bolivarian Republic of)\"                    \n",
      "[24,] \"Viet Nam\"                                              \n",
      "[25,] \"Yemen\"                                                 \n",
      "[26,] \"Zambia\"                                                \n",
      "[27,] \"Zimbabwe\"                                              \n",
      "[28,] \"Very high human development\"                           \n",
      "[29,] \"High human development\"                                \n",
      "[30,] \"Medium human development\"                              \n",
      "[31,] \"Low human development\"                                 \n",
      "[32,] \"Developing Countries\"                                  \n",
      "[33,] \"Arab States\"                                           \n",
      "[34,] \"East Asia and the Pacific\"                             \n",
      "[35,] \"Europe and Central Asia\"                               \n",
      "[36,] \"Latin America and the Caribbean\"                       \n",
      "[37,] \"South Asia\"                                            \n",
      "[38,] \"Sub-Saharan Africa\"                                    \n",
      "[39,] \"Least Developed Countries\"                             \n",
      "[40,] \"Small Island Developing States\"                        \n",
      "[41,] \"Organization for Economic Co-operation and Development\"\n",
      "[42,] \"World\"                                                 \n"
     ]
    },
    {
     "data": {
      "text/html": [
       "'118.491555805603 km'"
      ],
      "text/latex": [
       "'118.491555805603 km'"
      ],
      "text/markdown": [
       "'118.491555805603 km'"
      ],
      "text/plain": [
       "[1] \"118.491555805603 km\""
      ]
     },
     "metadata": {},
     "output_type": "display_data"
    }
   ],
   "source": [
    "input()"
   ]
  },
  {
   "cell_type": "markdown",
   "metadata": {},
   "source": [
    "I just realized that it does not work very well for very high population densities due to the lack of datapoints for the creation of the function. Therefore, I will further submit an alternative code which I tried before switching to the method already presented. This function of pipe length will instead draw on an additional table containing data on the UN index of the percentage of urban population in a country.\n",
    "1.) Here the base length the population of the region in question is multiplied with a factor representing the average pipe length per citizen. In this function the factor is derived from data for the city of Berlin, Germany, as an average size major city.\n",
    "2.) Next a correction factor for urban regions is built, as the pipe length per citizen varies in urban and rural regions. A UN Index for the percentage of urban population in a country is used (drawing on a table derived from http://hdr.undp.org/en/data, dimension \"Demography\" selecting \"Population, urban (%)\"), when the density calculated from the input suggests that a rural region or a whole country is being evaluated. If the density is above 680 people per km², it is assumed that the entire investigated area is to be considered as urban.\n",
    "urfac1 and urfac2 represent urban and rural pipe length factors. In rural regions the pipe length per citizen is assumed to be about five times higher than in rural regions (urfac2 <- 5). Each of these factors is multiplied with the respective percentages for urban (urper) and rural population in a country.\n",
    "For solely urban areas (density higher than 680) the urper factor is 1 because the whole area is considered urban. Therefore urfac2 is zero so that no part of the population is calculated as rural.\n",
    "3.) The third factor remains untouched by the changes."
   ]
  },
  {
   "cell_type": "code",
   "execution_count": 19,
   "metadata": {},
   "outputs": [],
   "source": [
    "pop_urban <- read.csv(\"Population_urban2.csv\", header=TRUE, sep=\",\", dec=\".\", na.strings=\"..\")"
   ]
  },
  {
   "cell_type": "code",
   "execution_count": 20,
   "metadata": {},
   "outputs": [],
   "source": [
    "pipe_length2 <- function(m, n, o){\n",
    "#1.)\n",
    "  base_length <- n * 0.0027\n",
    "    \n",
    "#2.)\n",
    "    if(o>=680){\n",
    "  urfac1 <- 1\n",
    "  urfac2 <- 0\n",
    "  urper <- 1\n",
    "} else {\n",
    "  urfac1 <- 1\n",
    "  urfac2 <- 5\n",
    "  urper <- pop_urban[grep(m, pop_urban[,2]),3]/100\n",
    "}\n",
    "corr_urban <- base_length * urfac1 * urper + base_length * urfac2 * (1-urper)\n",
    "\n",
    "  if (o>=680){\n",
    "    access <- pop_water_urban[grep(m, pop_water_urban[,1]),2]/100\n",
    "  } else {\n",
    "    access <- pop_water[grep(m, pop_water[,2]),3]/100\n",
    "  }\n",
    "  final_length2 <- corr_urban * access\n",
    "  return(final_length2)\n",
    "}"
   ]
  },
  {
   "cell_type": "code",
   "execution_count": 21,
   "metadata": {},
   "outputs": [],
   "source": [
    "input2 <- function(){\n",
    "  print(\"Valid Inputs: \")\n",
    "  print(regions)\n",
    "  country2 <- readline (prompt=\"Enter country or region: \")\n",
    "  population2 <- as.numeric(readline (prompt=\"Enter population: \"))\n",
    "  area2 <- as.numeric(readline(prompt=\"Enter area in km²: \"))\n",
    "  pop_density2 <- population2/area2\n",
    "  final2 <- pipe_length2(country2, population2, pop_density2)\n",
    "  paste0(final2, \" km\")\n",
    "}"
   ]
  },
  {
   "cell_type": "code",
   "execution_count": 24,
   "metadata": {},
   "outputs": [
    {
     "name": "stdout",
     "output_type": "stream",
     "text": [
      "Enter country or region: Chile\n",
      "Enter population: 5220161\n",
      "Enter area in km²: 641.4\n",
      "[1] \"Valid Inputs: \"\n",
      "      [,1]                                 [,2]                        \n",
      " [1,] \"Afghanistan\"                        \"Cuba\"                      \n",
      " [2,] \"Albania\"                            \"Cyprus\"                    \n",
      " [3,] \"Algeria\"                            \"Czechia\"                   \n",
      " [4,] \"Andorra\"                            \"Côte d'Ivoire\"             \n",
      " [5,] \"Angola\"                             \"Denmark\"                   \n",
      " [6,] \"Antigua and Barbuda\"                \"Djibouti\"                  \n",
      " [7,] \"Argentina\"                          \"Dominica\"                  \n",
      " [8,] \"Armenia\"                            \"Dominican Republic\"        \n",
      " [9,] \"Australia\"                          \"Ecuador\"                   \n",
      "[10,] \"Austria\"                            \"Egypt\"                     \n",
      "[11,] \"Azerbaijan\"                         \"El Salvador\"               \n",
      "[12,] \"Bahamas\"                            \"Equatorial Guinea\"         \n",
      "[13,] \"Bahrain\"                            \"Eritrea\"                   \n",
      "[14,] \"Bangladesh\"                         \"Estonia\"                   \n",
      "[15,] \"Barbados\"                           \"Eswatini (Kingdom of)\"     \n",
      "[16,] \"Belarus\"                            \"Ethiopia\"                  \n",
      "[17,] \"Belgium\"                            \"Fiji\"                      \n",
      "[18,] \"Belize\"                             \"Finland\"                   \n",
      "[19,] \"Benin\"                              \"France\"                    \n",
      "[20,] \"Bhutan\"                             \"Gabon\"                     \n",
      "[21,] \"Bolivia (Plurinational State of)\"   \"Gambia\"                    \n",
      "[22,] \"Bosnia and Herzegovina\"             \"Georgia\"                   \n",
      "[23,] \"Botswana\"                           \"Germany\"                   \n",
      "[24,] \"Brazil\"                             \"Ghana\"                     \n",
      "[25,] \"Brunei Darussalam\"                  \"Greece\"                    \n",
      "[26,] \"Bulgaria\"                           \"Grenada\"                   \n",
      "[27,] \"Burkina Faso\"                       \"Guatemala\"                 \n",
      "[28,] \"Burundi\"                            \"Guinea\"                    \n",
      "[29,] \"Cabo Verde\"                         \"Guinea-Bissau\"             \n",
      "[30,] \"Cambodia\"                           \"Guyana\"                    \n",
      "[31,] \"Cameroon\"                           \"Haiti\"                     \n",
      "[32,] \"Canada\"                             \"Honduras\"                  \n",
      "[33,] \"Central African Republic\"           \"Hong Kong\"                 \n",
      "[34,] \"Chad\"                               \"Hungary\"                   \n",
      "[35,] \"Chile\"                              \"Iceland\"                   \n",
      "[36,] \"China\"                              \"India\"                     \n",
      "[37,] \"Colombia\"                           \"Indonesia\"                 \n",
      "[38,] \"Comoros\"                            \"Iran (Islamic Republic of)\"\n",
      "[39,] \"Congo\"                              \"Iraq\"                      \n",
      "[40,] \"Congo (Democratic Republic of the)\" \"Ireland\"                   \n",
      "[41,] \"Costa Rica\"                         \"Israel\"                    \n",
      "[42,] \"Croatia\"                            \"Italy\"                     \n",
      "      [,3]                                  [,4]                              \n",
      " [1,] \"Jamaica\"                             \"Nicaragua\"                       \n",
      " [2,] \"Japan\"                               \"Niger\"                           \n",
      " [3,] \"Jordan\"                              \"Nigeria\"                         \n",
      " [4,] \"Kazakhstan\"                          \"North Macedonia\"                 \n",
      " [5,] \"Kenya\"                               \"Norway\"                          \n",
      " [6,] \"Kiribati\"                            \"Oman\"                            \n",
      " [7,] \"Korea (Democratic People's Rep. of)\" \"Pakistan\"                        \n",
      " [8,] \"Korea (Republic of)\"                 \"Palau\"                           \n",
      " [9,] \"Kuwait\"                              \"Palestine\"                       \n",
      "[10,] \"Kyrgyzstan\"                          \"Panama\"                          \n",
      "[11,] \"Lao People's Democratic Republic\"    \"Papua New Guinea\"                \n",
      "[12,] \"Latvia\"                              \"Paraguay\"                        \n",
      "[13,] \"Lebanon\"                             \"Peru\"                            \n",
      "[14,] \"Lesotho\"                             \"Philippines\"                     \n",
      "[15,] \"Liberia\"                             \"Poland\"                          \n",
      "[16,] \"Libya\"                               \"Portugal\"                        \n",
      "[17,] \"Liechtenstein\"                       \"Qatar\"                           \n",
      "[18,] \"Lithuania\"                           \"Romania\"                         \n",
      "[19,] \"Luxembourg\"                          \"Russian Federation\"              \n",
      "[20,] \"Madagascar\"                          \"Rwanda\"                          \n",
      "[21,] \"Malawi\"                              \"Saint Kitts and Nevis\"           \n",
      "[22,] \"Malaysia\"                            \"Saint Lucia\"                     \n",
      "[23,] \"Maldives\"                            \"Saint Vincent and the Grenadines\"\n",
      "[24,] \"Mali\"                                \"Samoa\"                           \n",
      "[25,] \"Malta\"                               \"San Marino\"                      \n",
      "[26,] \"Marshall Islands\"                    \"Sao Tome and Principe\"           \n",
      "[27,] \"Mauritania\"                          \"Saudi Arabia\"                    \n",
      "[28,] \"Mauritius\"                           \"Senegal\"                         \n",
      "[29,] \"Mexico\"                              \"Serbia\"                          \n",
      "[30,] \"Micronesia (Federated States of)\"    \"Seychelles\"                      \n",
      "[31,] \"Moldova (Republic of)\"               \"Sierra Leone\"                    \n",
      "[32,] \"Monaco\"                              \"Singapore\"                       \n",
      "[33,] \"Mongolia\"                            \"Slovakia\"                        \n",
      "[34,] \"Montenegro\"                          \"Slovenia\"                        \n",
      "[35,] \"Morocco\"                             \"Solomon Islands\"                 \n",
      "[36,] \"Mozambique\"                          \"Somalia\"                         \n",
      "[37,] \"Myanmar\"                             \"South Africa\"                    \n",
      "[38,] \"Namibia\"                             \"South Sudan\"                     \n",
      "[39,] \"Nauru\"                               \"Spain\"                           \n",
      "[40,] \"Nepal\"                               \"Sri Lanka\"                       \n",
      "[41,] \"Netherlands\"                         \"Sudan\"                           \n",
      "[42,] \"New Zealand\"                         \"Suriname\"                        \n",
      "      [,5]                                                    \n",
      " [1,] \"Sweden\"                                                \n",
      " [2,] \"Switzerland\"                                           \n",
      " [3,] \"Syrian Arab Republic\"                                  \n",
      " [4,] \"Tajikistan\"                                            \n",
      " [5,] \"Tanzania (United Republic of)\"                         \n",
      " [6,] \"Thailand\"                                              \n",
      " [7,] \"Timor-Leste\"                                           \n",
      " [8,] \"Togo\"                                                  \n",
      " [9,] \"Tonga\"                                                 \n",
      "[10,] \"Trinidad and Tobago\"                                   \n",
      "[11,] \"Tunisia\"                                               \n",
      "[12,] \"Turkey\"                                                \n",
      "[13,] \"Turkmenistan\"                                          \n",
      "[14,] \"Tuvalu\"                                                \n",
      "[15,] \"Uganda\"                                                \n",
      "[16,] \"Ukraine\"                                               \n",
      "[17,] \"United Arab Emirates\"                                  \n",
      "[18,] \"United Kingdom\"                                        \n",
      "[19,] \"United States\"                                         \n",
      "[20,] \"Uruguay\"                                               \n",
      "[21,] \"Uzbekistan\"                                            \n",
      "[22,] \"Vanuatu\"                                               \n",
      "[23,] \"Venezuela (Bolivarian Republic of)\"                    \n",
      "[24,] \"Viet Nam\"                                              \n",
      "[25,] \"Yemen\"                                                 \n",
      "[26,] \"Zambia\"                                                \n",
      "[27,] \"Zimbabwe\"                                              \n",
      "[28,] \"Very high human development\"                           \n",
      "[29,] \"High human development\"                                \n",
      "[30,] \"Medium human development\"                              \n",
      "[31,] \"Low human development\"                                 \n",
      "[32,] \"Developing Countries\"                                  \n",
      "[33,] \"Arab States\"                                           \n",
      "[34,] \"East Asia and the Pacific\"                             \n",
      "[35,] \"Europe and Central Asia\"                               \n",
      "[36,] \"Latin America and the Caribbean\"                       \n",
      "[37,] \"South Asia\"                                            \n",
      "[38,] \"Sub-Saharan Africa\"                                    \n",
      "[39,] \"Least Developed Countries\"                             \n",
      "[40,] \"Small Island Developing States\"                        \n",
      "[41,] \"Organization for Economic Co-operation and Development\"\n",
      "[42,] \"World\"                                                 \n"
     ]
    },
    {
     "data": {
      "text/html": [
       "'14094.4347 km'"
      ],
      "text/latex": [
       "'14094.4347 km'"
      ],
      "text/markdown": [
       "'14094.4347 km'"
      ],
      "text/plain": [
       "[1] \"14094.4347 km\""
      ]
     },
     "metadata": {},
     "output_type": "display_data"
    }
   ],
   "source": [
    "input2()"
   ]
  }
 ],
 "metadata": {
  "kernelspec": {
   "display_name": "R",
   "language": "R",
   "name": "ir"
  },
  "language_info": {
   "codemirror_mode": "r",
   "file_extension": ".r",
   "mimetype": "text/x-r-source",
   "name": "R",
   "pygments_lexer": "r",
   "version": "3.6.1"
  }
 },
 "nbformat": 4,
 "nbformat_minor": 4
}
